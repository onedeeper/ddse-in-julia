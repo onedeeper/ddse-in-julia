{
 "cells": [
  {
   "cell_type": "markdown",
   "metadata": {},
   "source": [
    "# Lecture 2/3 - Intro. to ODEs and Power Series"
   ]
  },
  {
   "cell_type": "markdown",
   "metadata": {},
   "source": [
    "Suppose, population of bunnies ($x$) grows at a rate $\\lambda$ proportional to $x$.\n",
    "$$\n",
    "\\dot{x} = \\frac{dx}{dt} = \\lambda x\n",
    "$$\n"
   ]
  },
  {
   "cell_type": "markdown",
   "metadata": {},
   "source": [
    "What we want to know : what is the population as a function of time ? , that is, what is $x(t)$?"
   ]
  },
  {
   "cell_type": "markdown",
   "metadata": {},
   "source": [
    "## Method 1: Integrate both sides\n",
    "\n",
    "Move all $x$ to one side and integrate both sides. Integrating adds the constant C (that is, when we derive a function with respect to a variable, constants go to 0. We need to account for this when we integrate.)\n",
    "$$\n",
    "\\int \\frac{dx}{x} = \\int \\lambda dt\n",
    "$$\n",
    "$$\n",
    "\\ln(x(t)) = \\lambda t + C\n",
    "$$\n",
    "\n",
    "That the exponent of both sides\n",
    "\n",
    "$$\n",
    "x(t) = e^{\\lambda t + C}\n",
    "$$\n",
    "\n",
    "Using the property that $e^{a + b} = e^ae^b$, where k is some constant\n",
    "\n",
    "$$\n",
    "x(t) = e^{\\lambda t k}\n",
    "$$\n",
    "\n",
    "What is k? This could be some initial value $x(0)$ for x at time 0.\n",
    "\n",
    "for $x(0)$:\n",
    "$$\n",
    "x(0) = e^{\\lambda (0) k} = k\n",
    "$$\n",
    "\n",
    "Thus the full solution :\n",
    "\n",
    "$$\n",
    "x(t) = e^{\\lambda t} x(0)\n",
    "$$"
   ]
  },
  {
   "cell_type": "markdown",
   "metadata": {},
   "source": [
    "This is a:\n",
    "- First order : There is only a single derivative (no second or third order terms e.g., $\\frac{d^2x}{dt^2}$)\n",
    "- Linear : The way that $x$ changes in time is linearly proportional to single constant $\\frac{dx}{dt} = \\lambda x$. Versus $\\frac{dx}{dt} = x^2$, this would be non-linear\n",
    "- Ordinary : State x only depends only on a single independent variable ($t$)\n",
    "- differential equation : an equation defined as how a function changes."
   ]
  },
  {
   "cell_type": "markdown",
   "metadata": {},
   "source": [
    "### Loan example"
   ]
  },
  {
   "cell_type": "markdown",
   "metadata": {},
   "source": [
    "Suppose you borrow money at annual interest rate $r$ such that:\n",
    "\n",
    "for yearly compounding\n",
    "$$\n",
    "x(1) = (1+r)\\cdot x(0)\n",
    "$$\n",
    "\n",
    "Montly compounding\n",
    "$$\n",
    "x(1) = (1+\\frac{r}{12})\\cdot x(0)\n",
    "$$\n",
    "\n",
    "Daily compounding\n",
    "$$\n",
    "x(1) = (1+\\frac{r}{365})\\cdot x(0)\n",
    "$$\n",
    "\n",
    "And at the limit, as the time window $\\rightarrow \\inf$\n",
    "$$\n",
    "x(1) = \\lim_{{N \\to \\infty}} \\left(1 + \\frac{r}{N}\\right)^N x(0)\n",
    "$$\n",
    "\n",
    "The exponential function is defined as:\n",
    "\n",
    "$e^r = \\lim_{{N \\to \\infty}} \\left(1 + \\frac{r}{n}\\right)^n$\n"
   ]
  },
  {
   "cell_type": "code",
   "execution_count": 5,
   "metadata": {},
   "outputs": [
    {
     "name": "stdout",
     "output_type": "stream",
     "text": [
      "1.051161897881733\n",
      "1.0512710963760241\n"
     ]
    }
   ],
   "source": [
    "r = 0.05\n",
    "# compounding montly for 12 months\n",
    "println((1 + (r/12))^12)\n",
    "\n",
    "# from the exponential function, this is the best that the bank can do\n",
    "println(exp(0.05))"
   ]
  },
  {
   "cell_type": "markdown",
   "metadata": {},
   "source": [
    "The loan amount $x$ is contionusly increasing at a rate $r$ proportional to the current loan ammount:\n",
    "\n",
    "$$\n",
    "\\frac{dx}{dt} = rx\n",
    "$$"
   ]
  }
 ],
 "metadata": {
  "kernelspec": {
   "display_name": "Julia 1.10.4",
   "language": "julia",
   "name": "julia-1.10"
  },
  "language_info": {
   "file_extension": ".jl",
   "mimetype": "application/julia",
   "name": "julia",
   "version": "1.10.4"
  }
 },
 "nbformat": 4,
 "nbformat_minor": 2
}
