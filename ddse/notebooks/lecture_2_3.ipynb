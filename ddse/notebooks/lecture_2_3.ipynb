{
 "cells": [
  {
   "cell_type": "markdown",
   "metadata": {},
   "source": [
    "# Lecture 2/3 - Intro. to ODEs and Power Series"
   ]
  },
  {
   "cell_type": "code",
   "execution_count": 2,
   "metadata": {},
   "outputs": [
    {
     "name": "stderr",
     "output_type": "stream",
     "text": [
      "┌ Warning: attempting to remove probably stale pidfile\n",
      "│   path = /Users/udeshhabaraduwa/.julia/compiled/v1.10/Plots/ld3vC_jS7te.ji.pidfile\n",
      "└ @ FileWatching.Pidfile /Users/udeshhabaraduwa/.julia/juliaup/julia-1.10.5+0.aarch64.apple.darwin14/share/julia/stdlib/v1.10/FileWatching/src/pidfile.jl:244\n"
     ]
    }
   ],
   "source": [
    "using Plots\n",
    "using LaTeXStrings\n",
    "using Polynomials"
   ]
  },
  {
   "cell_type": "markdown",
   "metadata": {},
   "source": [
    "\n",
    "$$\n",
    "\\dot{x} = \\frac{dx}{dt} = \\lambda x\n",
    "$$\n"
   ]
  },
  {
   "cell_type": "markdown",
   "metadata": {},
   "source": [
    "What we want to know : what is the population as a function of time ? , that is, what is $x(t)$?"
   ]
  },
  {
   "cell_type": "markdown",
   "metadata": {},
   "source": [
    "Move all $x$ to one side and integrate both sides. Integrating adds the constant C (that is, when we derive a function with respect to a variable, constants go to 0. We need to account for this when we integrate.)\n",
    "\n",
    "$$\n",
    "\\int \\frac{dx}{x} = \\int \\lambda dt\n",
    "$$\n",
    "$$\n",
    "\\ln(x(t)) = \\lambda t + C\n",
    "$$\n",
    "\n",
    "That the exponent of both sides\n",
    "\n",
    "$$\n",
    "x(t) = e^{\\lambda t + C}\n",
    "$$\n",
    "\n",
    "Using the property that $e^{a + b} = e^ae^b$, where k is some constant\n",
    "\n",
    "$$\n",
    "x(t) = e^{\\lambda t k}\n",
    "$$\n",
    "\n",
    "What is k? This could be some initial value $x(0)$ for x at time 0.\n",
    "\n",
    "for $x(0)$ :\n",
    "\n",
    "$$\n",
    "x(0) = e^{\\lambda (0) k} = k\n",
    "$$\n",
    "\n",
    "Thus the full solution :\n",
    "\n",
    "$$\n",
    "x(t) = e^{\\lambda t} x(0)\n",
    "$$"
   ]
  },
  {
   "cell_type": "markdown",
   "metadata": {},
   "source": [
    "This is a:\n",
    "- First order : There is only a single derivative (no second or third order terms e.g., $\\frac{d^2x}{dt^2}$)\n",
    "- Linear : The way that $x$ changes in time is linearly proportional to single constant $\\frac{dx}{dt} = \\lambda x$. Versus $\\frac{dx}{dt} = x^2$, this would be non-linear\n",
    "- Ordinary : State x only depends only on a single independent variable ($t$)\n",
    "- differential equation : an equation defined as how a function changes."
   ]
  },
  {
   "cell_type": "markdown",
   "metadata": {},
   "source": [
    "### Loan example"
   ]
  },
  {
   "cell_type": "markdown",
   "metadata": {},
   "source": [
    "Suppose you borrow money at annual interest rate $r$ such that:\n",
    "\n",
    "for yearly compounding\n",
    "$$\n",
    "x(1) = (1+r)\\cdot x(0)\n",
    "$$\n",
    "\n",
    "Montly compounding\n",
    "$$\n",
    "x(1) = (1+\\frac{r}{12})\\cdot x(0)\n",
    "$$\n",
    "\n",
    "Daily compounding\n",
    "$$\n",
    "x(1) = (1+\\frac{r}{365})\\cdot x(0)\n",
    "$$\n",
    "\n",
    "And at the limit, as the time window $\\rightarrow \\inf$\n",
    "\n",
    "$$\n",
    "x(1) = \\lim_{{N \\to \\infty}} \\left(1 + \\frac{r}{N}\\right)^N x(0)\n",
    "$$\n",
    "\n",
    "The exponential function is defined as:\n",
    "\n",
    "$e^r = \\lim_{{N \\to \\infty}} \\left(1 + \\frac{r}{n}\\right)^n$\n"
   ]
  },
  {
   "cell_type": "code",
   "execution_count": null,
   "metadata": {},
   "outputs": [],
   "source": [
    "r = 0.05\n",
    "# compounding montly for 12 months\n",
    "println((1 + (r/12))^12)\n",
    "\n",
    "# from the exponential function, this is the best that the bank can do\n",
    "println(exp(0.05))"
   ]
  },
  {
   "cell_type": "markdown",
   "metadata": {},
   "source": [
    "The loan amount $x$ is contionusly increasing at a rate $r$ proportional to the current loan ammount:\n",
    "\n",
    "$$\n",
    "\\frac{dx}{dt} = rx\n",
    "$$"
   ]
  },
  {
   "cell_type": "markdown",
   "metadata": {},
   "source": [
    "### Radioactive decay"
   ]
  },
  {
   "cell_type": "markdown",
   "metadata": {},
   "source": [
    "The mass of a radioactive material ($x$) is decreasing at a rate $\\lambda$ proportional to the current mass of the material\n",
    "\n",
    "$$\n",
    "\\dot{x} = -\\lambda x\n",
    "$$\n",
    "\n",
    "thus, using the math from above:\n",
    "$$\n",
    "x(t) = e^{-\\lambda t}x(0)\n",
    "$$"
   ]
  },
  {
   "cell_type": "markdown",
   "metadata": {},
   "source": [
    "## Taylor Series"
   ]
  },
  {
   "cell_type": "markdown",
   "metadata": {},
   "source": [
    "Approximate a ''nasty'' function as a Taylor series expansions\n",
    "\n",
    "Let $f(x + \\Delta x)$ be Taylor expanded (approximated to infinite precision) about a base point $x$ if $f$ is smooth at $x$\n",
    "\n",
    "$$\n",
    "f(x + \\delta x) = f(x) + \\frac{df}{dx}\\Delta x + \\frac{d^2f}{dx^2}\\frac{\\Delta x}{2!} + \\frac{d^3f}{dx^3}\\frac{\\Delta x}{3!} + ... + \\frac{d^Nf}{dx^N}\\frac{\\Delta x}{N!}\n",
    "$$\n",
    "\n",
    "If $\\Delta x$ is small, the approximation gets better and better as you add up terms.\n",
    "Alternatively written as:\n",
    "\n",
    "$$\n",
    "f(x) = f(a) + \\frac{df}{dx}(a)(x - a) + \\frac{d^2f}{dx^2}(a) \\frac{(x - a)^2}{2!} + \\frac{d^3f}{dx^3}(a) \\frac{(x - a)^3}{3!} +  + \\frac{d^Nf}{dx^N}(a) \\frac{(x - a)^N}{N!}\\cdots\n",
    "$$\n"
   ]
  },
  {
   "cell_type": "markdown",
   "metadata": {},
   "source": [
    "### Example : Taylor expansion of sin(x)\n",
    "\n",
    "$f(x) = sin(x)$ at $a = 0$\n",
    "\n",
    "$$\n",
    "f(x) = f(0) + f'(0)x + \\frac{f''(0)}{2!}x^2 + \\frac{f'''(0)}{3!}x^3 + \\frac{f^{(4)}(0)}{4!}x^4 + \\frac{f^{(5)}(0)}{5!}x^5 + \\cdots\n",
    "$$\n",
    "$$\n",
    "= \\sin(0) + \\cos(0) \\cdot x - \\frac{\\sin(0)}{2!}x^2 - \\frac{\\cos(0)}{3!}x^3 + \\frac{\\sin(0)}{4!}x^4 + \\frac{\\cos(0)}{5!}x^5 + \\cdots\n",
    "$$\n",
    "$$\n",
    "\\sin(x) = x - \\frac{x^3}{3!} + \\frac{x^5}{5!} - \\frac{x^7}{7!} + \\frac{x^9}{9!} - \\cdots\n",
    "$$"
   ]
  },
  {
   "cell_type": "code",
   "execution_count": null,
   "metadata": {},
   "outputs": [],
   "source": [
    "x = -10:0.01:10\n",
    "# sin.(x): Computes the sine of each element in the range x. \n",
    "# The dot (.) before the parentheses is for broadcasting, which applies the sin function element-wise to the range.\n",
    "y = sin.(x)\n",
    "plot(x,y, label = \"sin (x)\")"
   ]
  },
  {
   "cell_type": "markdown",
   "metadata": {},
   "source": [
    "First-order Taylor expansion"
   ]
  },
  {
   "cell_type": "code",
   "execution_count": null,
   "metadata": {},
   "outputs": [],
   "source": [
    "# Define the co-effients of the polynomial. \n",
    "# The order increases from left to right\n",
    "# That is, this represents 0 + 1(x0). Where as [2,3 4] would represent 2 + 3x + 4x^2\n",
    "p_coefs = [0,1]\n",
    "poly = Polynomial(p_coefs)\n",
    "y_poly = poly.(x)\n",
    "plot(x, [y,y_poly])"
   ]
  },
  {
   "cell_type": "markdown",
   "metadata": {},
   "source": [
    "Third order Taylor Expansion"
   ]
  },
  {
   "cell_type": "code",
   "execution_count": null,
   "metadata": {},
   "outputs": [],
   "source": [
    "# 0 + x + 0x^2 + x^3\n",
    "p_coefs = [0,1,0,1*(-1/factorial(3))]\n",
    "poly = Polynomial(p_coefs)\n",
    "y_poly_3 = poly.(x)\n",
    "plot(x, [y,y_poly,y_poly_3], label = [L\"$y = sin x$\" L\"$y = x$\" L\"$y = x + \\frac{x^3}{3!}$\"], ylim = [-10,10])"
   ]
  },
  {
   "cell_type": "markdown",
   "metadata": {},
   "source": [
    "Fifth order Taylor expansion"
   ]
  },
  {
   "cell_type": "code",
   "execution_count": null,
   "metadata": {},
   "outputs": [],
   "source": [
    "# 0 + x + 0x^2 + x^3\n",
    "p_coefs = [0,1,0,1*(-1/factorial(3)),0,1*(1/factorial(5))]\n",
    "poly = Polynomial(p_coefs)\n",
    "y_poly_5 = poly.(x)\n",
    "plot(x, [y,y_poly,y_poly_3,y_poly_5], label = [L\"$y = sin x$\" L\"$y = x$\" L\"$y = x + \\frac{x^3}{3!}$\" L\"$y = x + \\frac{x^5}{5!}$\"], ylim = [-10,10])"
   ]
  },
  {
   "cell_type": "markdown",
   "metadata": {},
   "source": [
    "## Solving differential equations with Power series"
   ]
  },
  {
   "cell_type": "markdown",
   "metadata": {},
   "source": [
    "Recall the solution to \n",
    "$$\n",
    "\\dot{x} = \\frac{dx}{dt} = \\lambda x\n",
    "$$\n",
    "\n",
    "as\n",
    "\n",
    "$$\n",
    "x(t) = e^{\\lambda t} x(0)\n",
    "$$"
   ]
  },
  {
   "cell_type": "markdown",
   "metadata": {},
   "source": [
    "How did we get this solution ? "
   ]
  },
  {
   "cell_type": "markdown",
   "metadata": {},
   "source": [
    "We assume that we can expand $x(t)$ as:\n",
    "$$\n",
    "x(t) = C_{0} + C_{1}t + C_{2}t^2 + C_{3}t^3 + C_{4}t^4 + \\dots\n",
    "$$\n",
    "deriving $x(t)$ gives :\n",
    "$$\n",
    "\\dot{x} = C_{1} + 2C_{2}t + 3C_{3}t^2 + 4C_{4}t^3 + \\dots\n",
    "$$\n",
    "\n",
    "and since $\\dot{x} = \\lambda x$\n",
    "\n",
    "$$\n",
    "\\begin{align}\n",
    "\\dot{x} &= \\lambda (C_{0} + C_{1}t + C_{2}t^2 + C_{3}t^3 + C_{4}t^4 + \\dots)\\\\\n",
    "        &=  \\lambda C_{0} + \\lambda C_{1}t + \\lambda C_{2}t^2 + \\lambda C_{3}t^3 + \\lambda C_{4}t^4 \\\\\n",
    " C_{1} + 2C_{2}t + 3C_{3}t^2 + 4C_{4}t^3 + \\dots &= \\lambda C_{0} + \\lambda C_{1}t + \\lambda C_{2}t^2 + \\lambda C_{3}t^3 + \\lambda C_{4}t^4      \n",
    "\\end{align}\n",
    "$$\n",
    "\n",
    "Thus, the indidivual terms must also be equal\n",
    "\n",
    "$$\n",
    "\\begin{align}\n",
    "C_{1} &= \\lambda C_{0} \\\\\n",
    "2C_{2}t &= \\lambda C_{1}t\\\\\n",
    "\\vdots\n",
    "\\end{align}\n",
    "$$\n",
    "\n",
    "Also note that $x(0) = C_0$ because at $t = 0$ , all of the terms with $t$ go to zero. \n",
    "\n",
    "From there, we see that equating the coefficients :\n",
    "\n",
    "$$\n",
    "\\begin{align}\n",
    "t^0  &: C_1 &= \\lambda C_0 = \\lambda x_0 \\\\\n",
    "t^1 &: 2C_2 &= \\lambda C_1 = \\lambda(\\lambda x_0) \\rightarrow C_2 = \\frac{\\lambda(\\lambda x_0)}{2} = \\frac{\\lambda^2 x_0}{2} \\\\\n",
    "t^2 &: 3C_3 &=  \\lambda \\frac{\\lambda^2 x_0}{2} \\rightarrow C_3 = \\frac{\\lambda^3 x_0}{3!}\\\\\n",
    "t^3 &: 4C_4 &= \\lambda C_3 \\rightarrow C_4 = \\frac{\\lambda^4 x_0}{4!} \\\\\n",
    "\\vdots \\\\\n",
    "t^N &: (N+1)C_{N+1} &= \\lambda C_N \\rightarrow C_{N+1} = \\frac{\\lambda^{N+1} x_0}{(N+1)!}\n",
    "\\end{align}\n",
    "$$\n",
    "\n",
    "Thus, now that we have the values for $C_N$, we can replace these back into $x(t) = C_{0} + C_{1}t + C_{2}t^2 + C_{3}t^3 + C_{4}t^4 + \\dots$\n",
    "\n",
    "\n",
    "$$\n",
    "\\begin{align}\n",
    "x(t) &= x_0 + \\lambda x_0 t + \\frac{\\lambda^2 x_0}{2}t^2 + \\frac{\\lambda^3 x_0}{3!}t^3 + \\frac{\\lambda^4 x_0}{4!}t^4 + \\dots \\\\\n",
    "    &= x_0[1 + \\lambda t + \\frac{\\lambda^2}{2}t^2 + \\frac{\\lambda^3}{3!}t^3 + \\frac{\\lambda^4}{4!}t^4 + \\dots]\\\\\n",
    "    &= x_0 e^{(\\lambda t)}\n",
    "\\end{align}\n",
    "$$\n",
    "\n",
    "\n",
    "Thus we have a solution to our differential equation $\\dot{x} = \\lambda x$ because the definition of $e^{(\\lambda t)}$ is the Taylor expansion.\n"
   ]
  },
  {
   "cell_type": "markdown",
   "metadata": {},
   "source": []
  },
  {
   "cell_type": "markdown",
   "metadata": {},
   "source": []
  },
  {
   "cell_type": "code",
   "execution_count": null,
   "metadata": {},
   "outputs": [],
   "source": []
  },
  {
   "cell_type": "code",
   "execution_count": null,
   "metadata": {},
   "outputs": [],
   "source": []
  },
  {
   "cell_type": "markdown",
   "metadata": {},
   "source": []
  },
  {
   "cell_type": "markdown",
   "metadata": {},
   "source": []
  }
 ],
 "metadata": {
  "kernelspec": {
   "display_name": "Julia 1.10.5",
   "language": "julia",
   "name": "julia-1.10"
  },
  "language_info": {
   "file_extension": ".jl",
   "mimetype": "application/julia",
   "name": "julia",
   "version": "1.10.5"
  }
 },
 "nbformat": 4,
 "nbformat_minor": 2
}
